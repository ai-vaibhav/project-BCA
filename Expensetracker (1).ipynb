{
  "metadata": {
    "kernelspec": {
      "name": "python",
      "display_name": "Python (Pyodide)",
      "language": "python"
    },
    "language_info": {
      "codemirror_mode": {
        "name": "python",
        "version": 3
      },
      "file_extension": ".py",
      "mimetype": "text/x-python",
      "name": "python",
      "nbconvert_exporter": "python",
      "pygments_lexer": "ipython3",
      "version": "3.8"
    }
  },
  "nbformat_minor": 5,
  "nbformat": 4,
  "cells": [
    {
      "id": "82b3e84d-3186-497f-a746-62cdba88b061",
      "cell_type": "code",
      "source": "",
      "metadata": {
        "trusted": true
      },
      "outputs": [],
      "execution_count": null
    },
    {
      "id": "e67b02b8-d39f-4312-8b18-353cf40259ea",
      "cell_type": "code",
      "source": "from dataclasses import dataclass, asdict\nimport csv\nfrom typing import List\n\n@dataclass\nclass Expense:\n    amount: float\n    category: str\n    description: str\n\ndef save_expenses(expenses: List[Expense], filename: str = \"expenses.csv\"):\n    with open(filename, mode='w', newline='') as file:\n        writer = csv.writer(file)\n        writer.writerow(['Amount', 'Category', 'Description']) \n        for expense in expenses:\n            writer.writerow([expense.amount, expense.category, expense.description])\n\ndef display_expenses(expenses: List[Expense]): \n    print(\"\\nExpense Records:\")\n    for index, record in enumerate(expenses):\n        print(f\"{index + 1}: {asdict(record)}\")  \n\ndef remove_expense(expenses: List[Expense]):\n    display_expenses(expenses)\n    try:\n        index = int(input(\"Enter the number of the expense you want to remove: \")) - 1\n        if 0 <= index < len(expenses):\n            removed_expense = expenses.pop(index)\n            print(f\"Removed expense: {asdict(removed_expense)}\")\n        else:\n            print(\"Invalid index. No expense removed.\")\n    except ValueError:\n        print(\"Please enter a valid number.\")\n\ndef expense_tracker():\n    expenses: List[Expense] = [] \n    while True:\n        action = input(\"Would you like to add, remove, or view expenses? (add/remove/view/exit): \").lower()\n        \n        if action == \"add\":\n            while True:\n                try:\n                    amount = float(input(\"Enter the expense amount: \"))  \n                except ValueError:\n                    print(\"Please enter a valid number for the amount.\")\n                    continue  \n                category = input(\"Enter the category: \")\n                description = input(\"Enter the description: \")\n                expenses.append(Expense(amount, category, description))\n                \n                add_more = input(\"Do you want to add more expenses? (yes/no): \").lower()\n                if add_more == \"no\":\n                    break\n\n        elif action == \"remove\":\n            if expenses: \n                remove_expense(expenses)\n            else:\n                print(\"No expenses to remove.\")\n\n        elif action == \"view\":\n            if expenses:\n                display_expenses(expenses)\n            else:\n                print(\"No expenses recorded.\")\n\n        elif action == \"exit\":\n            save_expenses(expenses) \n            print(\"Expenses saved. Exiting the program.\")\n            break\n\n        else:\n            print(\"Invalid action. Please choose add, remove, view, or exit.\")\n\n# Start the expense tracker\nexpense_tracker()",
      "metadata": {
        "trusted": true
      },
      "outputs": [
        {
          "ename": "<class 'AttributeError'>",
          "evalue": "'PyodideFuture' object has no attribute 'lower'",
          "traceback": [
            "\u001b[0;31m---------------------------------------------------------------------------\u001b[0m",
            "\u001b[0;31mAttributeError\u001b[0m                            Traceback (most recent call last)",
            "Cell \u001b[0;32mIn[1], line 76\u001b[0m\n\u001b[1;32m     73\u001b[0m             \u001b[38;5;28mprint\u001b[39m(\u001b[38;5;124m\"\u001b[39m\u001b[38;5;124mInvalid action. Please choose add, remove, view, or exit.\u001b[39m\u001b[38;5;124m\"\u001b[39m)\n\u001b[1;32m     75\u001b[0m \u001b[38;5;66;03m# Start the expense tracker\u001b[39;00m\n\u001b[0;32m---> 76\u001b[0m \u001b[43mexpense_tracker\u001b[49m\u001b[43m(\u001b[49m\u001b[43m)\u001b[49m\n",
            "Cell \u001b[0;32mIn[1], line 38\u001b[0m, in \u001b[0;36mexpense_tracker\u001b[0;34m()\u001b[0m\n\u001b[1;32m     36\u001b[0m expenses: List[Expense] \u001b[38;5;241m=\u001b[39m [] \n\u001b[1;32m     37\u001b[0m \u001b[38;5;28;01mwhile\u001b[39;00m \u001b[38;5;28;01mTrue\u001b[39;00m:\n\u001b[0;32m---> 38\u001b[0m     action \u001b[38;5;241m=\u001b[39m \u001b[38;5;28;43minput\u001b[39;49m\u001b[43m(\u001b[49m\u001b[38;5;124;43m\"\u001b[39;49m\u001b[38;5;124;43mWould you like to add, remove, or view expenses? (add/remove/view/exit): \u001b[39;49m\u001b[38;5;124;43m\"\u001b[39;49m\u001b[43m)\u001b[49m\u001b[38;5;241;43m.\u001b[39;49m\u001b[43mlower\u001b[49m()\n\u001b[1;32m     40\u001b[0m     \u001b[38;5;28;01mif\u001b[39;00m action \u001b[38;5;241m==\u001b[39m \u001b[38;5;124m\"\u001b[39m\u001b[38;5;124madd\u001b[39m\u001b[38;5;124m\"\u001b[39m:\n\u001b[1;32m     41\u001b[0m         \u001b[38;5;28;01mwhile\u001b[39;00m \u001b[38;5;28;01mTrue\u001b[39;00m:\n",
            "\u001b[0;31mAttributeError\u001b[0m: 'PyodideFuture' object has no attribute 'lower'"
          ],
          "output_type": "error"
        }
      ],
      "execution_count": 1
    }
  ]
}